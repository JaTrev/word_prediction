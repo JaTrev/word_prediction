{
  "nbformat": 4,
  "nbformat_minor": 0,
  "metadata": {
    "colab": {
      "name": "wordPredictionNotebook.ipynb",
      "provenance": [],
      "collapsed_sections": []
    },
    "kernelspec": {
      "name": "python3",
      "display_name": "Python 3"
    },
    "language_info": {
      "name": "python"
    }
  },
  "cells": [
    {
      "cell_type": "markdown",
      "metadata": {
        "id": "MvczzFrpPJLa"
      },
      "source": [
        "**Install Transformers**"
      ]
    },
    {
      "cell_type": "code",
      "metadata": {
        "id": "aHYLOLQLYchC"
      },
      "source": [
        "!pip install transformers"
      ],
      "execution_count": null,
      "outputs": []
    },
    {
      "cell_type": "markdown",
      "metadata": {
        "id": "T5AQ0Td6PN_A"
      },
      "source": [
        "**Get a necessary libraries**"
      ]
    },
    {
      "cell_type": "code",
      "metadata": {
        "id": "rMRlMZ85XMQx"
      },
      "source": [
        "from transformers import AutoTokenizer, AutoModelForMaskedLM\n",
        "import string\n",
        "from torch.nn import functional as F\n",
        "import torch"
      ],
      "execution_count": 2,
      "outputs": []
    },
    {
      "cell_type": "markdown",
      "metadata": {
        "id": "qhfl4qZfPU8v"
      },
      "source": [
        "**Define necessary function for encoding, decoding, and gets next word predictions**"
      ]
    },
    {
      "cell_type": "code",
      "metadata": {
        "id": "g540XIcB-aRp"
      },
      "source": [
        "def load_model(model_name: str):\n",
        "  assert model_name.lower() in [\"bert\", \"distilbert\"]\n",
        "\n",
        "  if model_name.lower() == \"bert\":\n",
        "      model_name = \"bert-base-uncased\"\n",
        "  else:\n",
        "      model_name = \"distilbert-base-uncased\"\n",
        "\n",
        "  tokenizer = AutoTokenizer.from_pretrained(model_name)\n",
        "  model = AutoModelForMaskedLM.from_pretrained(model_name).eval()\n",
        "\n",
        "  return tokenizer, model\n",
        "\n",
        "\n",
        "def decode(tokenizer, pred_idx):\n",
        "    \n",
        "    ignore_tokens = string.punctuation + '[PAD]'\n",
        "    tokens = []\n",
        "    for w in pred_idx:\n",
        "        token = ''.join(tokenizer.decode(w).split())\n",
        "        if token not in ignore_tokens:\n",
        "            tokens.append(token.replace('##', ''))\n",
        "    return tokens\n",
        "\n",
        "\n",
        "def encode(tokenizer, text_sentence, add_special_tokens=True):\n",
        "    text_sentence = text_sentence.replace('<mask>', tokenizer.mask_token)\n",
        "    \n",
        "    # if <mask> is the last token, append a \".\" so that models dont predict punctuation.\n",
        "    if tokenizer.mask_token == text_sentence.split()[-1]:\n",
        "        text_sentence += ' .'\n",
        "\n",
        "    input_ids = torch.tensor([tokenizer.encode(text_sentence, add_special_tokens=add_special_tokens)])\n",
        "    mask_idx = torch.where(input_ids == tokenizer.mask_token_id)[1].tolist()[0]\n",
        "    return input_ids, mask_idx\n",
        "\n",
        "\n",
        "def get_all_predictions(model, tokenizer, text_sentence, top_k_words):\n",
        "    input_ids, mask_idx = encode(tokenizer, text_sentence)\n",
        "\n",
        "    with torch.no_grad():\n",
        "        predict = model(input_ids)[0]\n",
        "\n",
        "    words = decode(tokenizer,\n",
        "                   predict[0, mask_idx, :].topk(top_k_words).indices.tolist())\n",
        "    return words\n"
      ],
      "execution_count": 3,
      "outputs": []
    },
    {
      "cell_type": "markdown",
      "metadata": {
        "id": "OwESK2_0Piq5"
      },
      "source": [
        "**Get predictions of input**"
      ]
    },
    {
      "cell_type": "code",
      "metadata": {
        "id": "G9bPRSwaYpr3"
      },
      "source": [
        "model_name = 'BERT'\n",
        "input_text = \"Hello my\"\n",
        "top_n_predictions = 5\n",
        "\n",
        "# prepare input\n",
        "input_text += ' <mask>'"
      ],
      "execution_count": 4,
      "outputs": []
    },
    {
      "cell_type": "markdown",
      "metadata": {
        "id": "073S8rqJPt5Z"
      },
      "source": [
        "**Load models**"
      ]
    },
    {
      "cell_type": "code",
      "metadata": {
        "id": "CplzkaqJPtUr"
      },
      "source": [
        "tokenizer, model  = load_model(model_name)"
      ],
      "execution_count": null,
      "outputs": []
    },
    {
      "cell_type": "markdown",
      "metadata": {
        "id": "nRfmfeDKPzLV"
      },
      "source": [
        "**Tokenize data**"
      ]
    },
    {
      "cell_type": "code",
      "metadata": {
        "id": "6m1nXYTI8Gpm"
      },
      "source": [
        "input_ids, mask_idx = encode(tokenizer, input_text)"
      ],
      "execution_count": 7,
      "outputs": []
    },
    {
      "cell_type": "markdown",
      "metadata": {
        "id": "tawTL6qxP3kq"
      },
      "source": [
        "**Get predictions**"
      ]
    },
    {
      "cell_type": "code",
      "metadata": {
        "id": "NQeZoPwMvoLd"
      },
      "source": [
        "with torch.no_grad():\n",
        "  predictions = model(input_ids)[0]\n",
        "\n",
        "top_predictions_words = decode(tokenizer, predictions[0, mask_idx, :].topk(top_n_predictions).indices.tolist())"
      ],
      "execution_count": 10,
      "outputs": []
    },
    {
      "cell_type": "code",
      "metadata": {
        "colab": {
          "base_uri": "https://localhost:8080/"
        },
        "id": "TcHDRUOlQVMc",
        "outputId": "c77f36d6-b79b-4607-ec38-bce95da6b661"
      },
      "source": [
        "print(top_predictions_words)"
      ],
      "execution_count": 11,
      "outputs": [
        {
          "output_type": "stream",
          "text": [
            "['dear', 'friend', 'love', 'friends', 'darling']\n"
          ],
          "name": "stdout"
        }
      ]
    }
  ]
}